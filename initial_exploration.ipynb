{
 "cells": [
  {
   "cell_type": "code",
   "execution_count": 1,
   "id": "15568fff-7551-4cde-b9fb-48e87ac0b59c",
   "metadata": {},
   "outputs": [
    {
     "name": "stdout",
     "output_type": "stream",
     "text": [
      "Requirement already satisfied: pandas in /Users/benithasripanchagiri/ds-venv/lib/python3.13/site-packages (2.2.3)\n",
      "Requirement already satisfied: numpy>=1.26.0 in /Users/benithasripanchagiri/ds-venv/lib/python3.13/site-packages (from pandas) (2.2.1)\n",
      "Requirement already satisfied: python-dateutil>=2.8.2 in /Users/benithasripanchagiri/ds-venv/lib/python3.13/site-packages (from pandas) (2.9.0.post0)\n",
      "Requirement already satisfied: pytz>=2020.1 in /Users/benithasripanchagiri/ds-venv/lib/python3.13/site-packages (from pandas) (2025.1)\n",
      "Requirement already satisfied: tzdata>=2022.7 in /Users/benithasripanchagiri/ds-venv/lib/python3.13/site-packages (from pandas) (2025.1)\n",
      "Requirement already satisfied: six>=1.5 in /Users/benithasripanchagiri/ds-venv/lib/python3.13/site-packages (from python-dateutil>=2.8.2->pandas) (1.17.0)\n",
      "\n",
      "\u001b[1m[\u001b[0m\u001b[34;49mnotice\u001b[0m\u001b[1;39;49m]\u001b[0m\u001b[39;49m A new release of pip is available: \u001b[0m\u001b[31;49m24.3.1\u001b[0m\u001b[39;49m -> \u001b[0m\u001b[32;49m25.0.1\u001b[0m\n",
      "\u001b[1m[\u001b[0m\u001b[34;49mnotice\u001b[0m\u001b[1;39;49m]\u001b[0m\u001b[39;49m To update, run: \u001b[0m\u001b[32;49mpip install --upgrade pip\u001b[0m\n"
     ]
    }
   ],
   "source": [
    "!pip install pandas"
   ]
  },
  {
   "cell_type": "code",
   "execution_count": 4,
   "id": "f1042564-6b90-4b38-a29c-31cf86d55750",
   "metadata": {
    "scrolled": true
   },
   "outputs": [
    {
     "name": "stdout",
     "output_type": "stream",
     "text": [
      "  Student_ID First_Name Last_Name                    Email  Gender  Age  \\\n",
      "0      S1000       Omar  Williams  student0@university.com  Female   22   \n",
      "1      S1001      Maria     Brown  student1@university.com    Male   18   \n",
      "2      S1002      Ahmed     Jones  student2@university.com    Male   24   \n",
      "3      S1003       Omar  Williams  student3@university.com  Female   24   \n",
      "4      S1004       John     Smith  student4@university.com  Female   23   \n",
      "\n",
      "    Department  Attendance (%)  Midterm_Score  Final_Score  ...  \\\n",
      "0  Engineering           52.29          55.03        57.82  ...   \n",
      "1  Engineering           97.27          97.23        45.80  ...   \n",
      "2     Business           57.19          67.05        93.68  ...   \n",
      "3  Mathematics           95.15          47.79        80.63  ...   \n",
      "4           CS           54.18          46.59        78.89  ...   \n",
      "\n",
      "   Projects_Score  Total_Score  Grade  Study_Hours_per_Week  \\\n",
      "0           85.90        56.09      F                   6.2   \n",
      "1           55.65        50.64      A                  19.0   \n",
      "2           73.79        70.30      D                  20.7   \n",
      "3           92.12        61.63      A                  24.8   \n",
      "4           68.42        66.13      F                  15.4   \n",
      "\n",
      "   Extracurricular_Activities Internet_Access_at_Home  Parent_Education_Level  \\\n",
      "0                          No                     Yes             High School   \n",
      "1                          No                     Yes                     NaN   \n",
      "2                          No                     Yes                Master's   \n",
      "3                         Yes                     Yes             High School   \n",
      "4                         Yes                     Yes             High School   \n",
      "\n",
      "  Family_Income_Level Stress_Level (1-10) Sleep_Hours_per_Night  \n",
      "0              Medium                   5                   4.7  \n",
      "1              Medium                   4                   9.0  \n",
      "2                 Low                   6                   6.2  \n",
      "3                High                   3                   6.7  \n",
      "4                High                   2                   7.1  \n",
      "\n",
      "[5 rows x 23 columns]\n",
      "<class 'pandas.core.frame.DataFrame'>\n",
      "RangeIndex: 5000 entries, 0 to 4999\n",
      "Data columns (total 23 columns):\n",
      " #   Column                      Non-Null Count  Dtype  \n",
      "---  ------                      --------------  -----  \n",
      " 0   Student_ID                  5000 non-null   object \n",
      " 1   First_Name                  5000 non-null   object \n",
      " 2   Last_Name                   5000 non-null   object \n",
      " 3   Email                       5000 non-null   object \n",
      " 4   Gender                      5000 non-null   object \n",
      " 5   Age                         5000 non-null   int64  \n",
      " 6   Department                  5000 non-null   object \n",
      " 7   Attendance (%)              4484 non-null   float64\n",
      " 8   Midterm_Score               5000 non-null   float64\n",
      " 9   Final_Score                 5000 non-null   float64\n",
      " 10  Assignments_Avg             4483 non-null   float64\n",
      " 11  Quizzes_Avg                 5000 non-null   float64\n",
      " 12  Participation_Score         5000 non-null   float64\n",
      " 13  Projects_Score              5000 non-null   float64\n",
      " 14  Total_Score                 5000 non-null   float64\n",
      " 15  Grade                       5000 non-null   object \n",
      " 16  Study_Hours_per_Week        5000 non-null   float64\n",
      " 17  Extracurricular_Activities  5000 non-null   object \n",
      " 18  Internet_Access_at_Home     5000 non-null   object \n",
      " 19  Parent_Education_Level      3206 non-null   object \n",
      " 20  Family_Income_Level         5000 non-null   object \n",
      " 21  Stress_Level (1-10)         5000 non-null   int64  \n",
      " 22  Sleep_Hours_per_Night       5000 non-null   float64\n",
      "dtypes: float64(10), int64(2), object(11)\n",
      "memory usage: 898.6+ KB\n",
      "None\n"
     ]
    }
   ],
   "source": [
    "#Loading the dataset and checking\n",
    "import pandas as pd\n",
    "\n",
    "df = pd.read_csv(\"studentsgrade.csv\")\n",
    "print(df.head())\n",
    "print(df.info())"
   ]
  },
  {
   "cell_type": "markdown",
   "id": "58c8a652-bd7d-4166-b9d9-ddaabff201b4",
   "metadata": {},
   "source": [
    "# Some interesting relations\n",
    "- A good Relationship_with_Manager might correlate with higher Work_Environment_Satisfaction.\n",
    "- You can explore if employees in Manager or Executive roles stay longer (high Years_at_Company) than employees in Assistant roles.\n",
    "- You can analyze if employees with lower Job Satisfaction are more likely to leave (i.e., Attrition = \"Yes\")."
   ]
  },
  {
   "cell_type": "markdown",
   "id": "193ba412-f9ee-42c3-a7e3-13e5fb87693f",
   "metadata": {},
   "source": [
    "# Features that I would like to predict:\n",
    "- Predict the Job Satisfaction level (possibly categorized as Low, Medium, High) based on other employee features.\n",
    "- Predict whether an employee works Overtime based on other features like Job Role, Years at Company, or Absenteeism.\n",
    "- Predict the Job Satisfaction level (possibly categorized as Low, Medium, High) based on other employee features."
   ]
  },
  {
   "cell_type": "code",
   "execution_count": 9,
   "id": "3042fe5b-1d34-49dd-a5c8-f5d195381a72",
   "metadata": {},
   "outputs": [
    {
     "name": "stdout",
     "output_type": "stream",
     "text": [
      "Missing values :\n",
      " Student_ID                       0\n",
      "First_Name                       0\n",
      "Last_Name                        0\n",
      "Email                            0\n",
      "Gender                           0\n",
      "Age                              0\n",
      "Department                       0\n",
      "Attendance (%)                 516\n",
      "Midterm_Score                    0\n",
      "Final_Score                      0\n",
      "Assignments_Avg                517\n",
      "Quizzes_Avg                      0\n",
      "Participation_Score              0\n",
      "Projects_Score                   0\n",
      "Total_Score                      0\n",
      "Grade                            0\n",
      "Study_Hours_per_Week             0\n",
      "Extracurricular_Activities       0\n",
      "Internet_Access_at_Home          0\n",
      "Parent_Education_Level        1794\n",
      "Family_Income_Level              0\n",
      "Stress_Level (1-10)              0\n",
      "Sleep_Hours_per_Night            0\n",
      "dtype: int64\n",
      "Duplicated values : 0\n"
     ]
    }
   ],
   "source": [
    "#Checking for null values and duplicat values to clean the dataset\n",
    "print(f\"Missing values :\\n {df.isnull().sum()}\")\n",
    "print(f\"Duplicated values : {df.duplicated().sum()}\")"
   ]
  },
  {
   "cell_type": "markdown",
   "id": "eaa2c2cd-379d-4e1b-9f96-6e63ffcacf02",
   "metadata": {},
   "source": [
    "## Missing and Duplicate values\n",
    "After checking for missing values and duplicat values to clean the dataset, we found columns **Attendance**, **Parents_Education_Level** and **Assignments_Avg** are having missing values and there are no duplicated values.\n",
    "\n",
    "We can either fill or drop the columns with missing values.\n",
    "We will drop the **Parents_Education_Level** column and fill the **Attendance** and **Assignments_Avg** columns."
   ]
  },
  {
   "cell_type": "code",
   "execution_count": 10,
   "id": "4b6bea2f-9639-473c-a2b7-efe0ebe537a0",
   "metadata": {},
   "outputs": [
    {
     "name": "stdout",
     "output_type": "stream",
     "text": [
      "Missing values :\n",
      " Student_ID                       0\n",
      "First_Name                       0\n",
      "Last_Name                        0\n",
      "Email                            0\n",
      "Gender                           0\n",
      "Age                              0\n",
      "Department                       0\n",
      "Attendance (%)                   0\n",
      "Midterm_Score                    0\n",
      "Final_Score                      0\n",
      "Assignments_Avg                  0\n",
      "Quizzes_Avg                      0\n",
      "Participation_Score              0\n",
      "Projects_Score                   0\n",
      "Total_Score                      0\n",
      "Grade                            0\n",
      "Study_Hours_per_Week             0\n",
      "Extracurricular_Activities       0\n",
      "Internet_Access_at_Home          0\n",
      "Parent_Education_Level        1794\n",
      "Family_Income_Level              0\n",
      "Stress_Level (1-10)              0\n",
      "Sleep_Hours_per_Night            0\n",
      "dtype: int64\n"
     ]
    }
   ],
   "source": [
    "#DataCleaning\n",
    "# Fill missing values in numerical columns with the mean.\n",
    "\n",
    "df['Attendance (%)'] = df['Attendance (%)'].fillna(df['Attendance (%)'].mean())\n",
    "df['Assignments_Avg'] = df['Assignments_Avg'].fillna(df['Assignments_Avg'].mean())\n",
    "\n",
    "print(f\"Missing values :\\n {df.isnull().sum()}\")"
   ]
  },
  {
   "cell_type": "markdown",
   "id": "337c1ae4-fd58-4639-b449-de8b266a376a",
   "metadata": {},
   "source": [
    "### The columns **Attendance** and **Assignments_Avg** are filled."
   ]
  },
  {
   "cell_type": "code",
   "execution_count": 11,
   "id": "d9bb884d-d0c9-45c6-bccb-010048d87e42",
   "metadata": {},
   "outputs": [
    {
     "name": "stdout",
     "output_type": "stream",
     "text": [
      "Missing values :\n",
      " Student_ID                    0\n",
      "First_Name                    0\n",
      "Last_Name                     0\n",
      "Email                         0\n",
      "Gender                        0\n",
      "Age                           0\n",
      "Department                    0\n",
      "Attendance (%)                0\n",
      "Midterm_Score                 0\n",
      "Final_Score                   0\n",
      "Assignments_Avg               0\n",
      "Quizzes_Avg                   0\n",
      "Participation_Score           0\n",
      "Projects_Score                0\n",
      "Total_Score                   0\n",
      "Grade                         0\n",
      "Study_Hours_per_Week          0\n",
      "Extracurricular_Activities    0\n",
      "Internet_Access_at_Home       0\n",
      "Parent_Education_Level        0\n",
      "Family_Income_Level           0\n",
      "Stress_Level (1-10)           0\n",
      "Sleep_Hours_per_Night         0\n",
      "dtype: int64\n"
     ]
    }
   ],
   "source": [
    "#Dropping Parents_Education_Level column\n",
    "df.dropna(subset=['Parent_Education_Level'], inplace=True)\n",
    "\n",
    "print(f\"Missing values :\\n {df.isnull().sum()}\")"
   ]
  },
  {
   "cell_type": "markdown",
   "id": "e67e38dd-e942-4e95-90aa-18c64ccb904a",
   "metadata": {},
   "source": [
    "### **Parents_Education_Levels** has been dropped. And now the dataset is clean.\n",
    "### We will work on creating training and testing sets."
   ]
  },
  {
   "cell_type": "code",
   "execution_count": 12,
   "id": "f5799804-2590-43c2-a778-5e2820de8182",
   "metadata": {},
   "outputs": [
    {
     "name": "stdout",
     "output_type": "stream",
     "text": [
      "Requirement already satisfied: scikit-learn in /Users/benithasripanchagiri/ds-venv/lib/python3.13/site-packages (1.6.1)\n",
      "Requirement already satisfied: numpy>=1.19.5 in /Users/benithasripanchagiri/ds-venv/lib/python3.13/site-packages (from scikit-learn) (2.2.1)\n",
      "Requirement already satisfied: scipy>=1.6.0 in /Users/benithasripanchagiri/ds-venv/lib/python3.13/site-packages (from scikit-learn) (1.15.2)\n",
      "Requirement already satisfied: joblib>=1.2.0 in /Users/benithasripanchagiri/ds-venv/lib/python3.13/site-packages (from scikit-learn) (1.4.2)\n",
      "Requirement already satisfied: threadpoolctl>=3.1.0 in /Users/benithasripanchagiri/ds-venv/lib/python3.13/site-packages (from scikit-learn) (3.5.0)\n",
      "\n",
      "\u001b[1m[\u001b[0m\u001b[34;49mnotice\u001b[0m\u001b[1;39;49m]\u001b[0m\u001b[39;49m A new release of pip is available: \u001b[0m\u001b[31;49m24.3.1\u001b[0m\u001b[39;49m -> \u001b[0m\u001b[32;49m25.0.1\u001b[0m\n",
      "\u001b[1m[\u001b[0m\u001b[34;49mnotice\u001b[0m\u001b[1;39;49m]\u001b[0m\u001b[39;49m To update, run: \u001b[0m\u001b[32;49mpip install --upgrade pip\u001b[0m\n"
     ]
    }
   ],
   "source": [
    "!pip install scikit-learn"
   ]
  },
  {
   "cell_type": "code",
   "execution_count": 19,
   "id": "723450fb-6bfe-4d43-9b67-ad8cd12cbc94",
   "metadata": {},
   "outputs": [
    {
     "name": "stdout",
     "output_type": "stream",
     "text": [
      "Train Set :\n",
      "     Student_ID First_Name Last_Name                       Email  Gender  Age  \\\n",
      "514       S1514       Sara  Williams   student514@university.com  Female   20   \n",
      "1921      S2921      Ahmed  Williams  student1921@university.com  Female   19   \n",
      "3999      S4999       Emma   Johnson  student3999@university.com  Female   20   \n",
      "2121      S3121      Maria     Davis  student2121@university.com  Female   18   \n",
      "4742      S5742      Maria  Williams  student4742@university.com  Female   24   \n",
      "\n",
      "       Department  Attendance (%)  Midterm_Score  Final_Score  ...  \\\n",
      "514      Business           91.65          53.79        62.82  ...   \n",
      "1921     Business           68.68          74.46        47.76  ...   \n",
      "3999  Mathematics           90.86          88.60        44.19  ...   \n",
      "2121  Engineering           92.72          49.60        63.92  ...   \n",
      "4742  Engineering           85.80          43.95        53.98  ...   \n",
      "\n",
      "      Projects_Score  Total_Score  Grade  Study_Hours_per_Week  \\\n",
      "514            54.18        58.89      A                  25.5   \n",
      "1921           68.45        89.88      C                  17.2   \n",
      "3999           71.19        81.36      A                  25.0   \n",
      "2121           86.99        77.47      A                   7.3   \n",
      "4742           74.56        89.86      A                  24.7   \n",
      "\n",
      "      Extracurricular_Activities Internet_Access_at_Home  \\\n",
      "514                           No                     Yes   \n",
      "1921                         Yes                     Yes   \n",
      "3999                          No                      No   \n",
      "2121                          No                     Yes   \n",
      "4742                          No                     Yes   \n",
      "\n",
      "      Parent_Education_Level Family_Income_Level Stress_Level (1-10)  \\\n",
      "514                      PhD                 Low                   1   \n",
      "1921             High School                 Low                   5   \n",
      "3999                     PhD              Medium                   3   \n",
      "2121             High School              Medium                  10   \n",
      "4742              Bachelor's              Medium                   5   \n",
      "\n",
      "     Sleep_Hours_per_Night  \n",
      "514                    4.1  \n",
      "1921                   7.6  \n",
      "3999                   4.8  \n",
      "2121                   5.2  \n",
      "4742                   4.6  \n",
      "\n",
      "[5 rows x 23 columns]\n",
      "Test Set :\n",
      "     Student_ID First_Name Last_Name                       Email  Gender  Age  \\\n",
      "3737      S4737      Ahmed     Jones  student3737@university.com  Female   20   \n",
      "2626      S3626       Sara   Johnson  student2626@university.com    Male   23   \n",
      "1890      S2890       Sara  Williams  student1890@university.com  Female   24   \n",
      "974       S1974      Maria     Smith   student974@university.com    Male   23   \n",
      "1578      S2578       Emma     Davis  student1578@university.com  Female   23   \n",
      "\n",
      "       Department  Attendance (%)  Midterm_Score  Final_Score  ...  \\\n",
      "3737     Business           59.70          77.67        44.89  ...   \n",
      "2626           CS           98.77          75.56        74.40  ...   \n",
      "1890  Engineering           62.39          97.09        73.90  ...   \n",
      "974            CS           54.90          77.50        66.23  ...   \n",
      "1578  Engineering           63.30          71.04        50.76  ...   \n",
      "\n",
      "      Projects_Score  Total_Score  Grade  Study_Hours_per_Week  \\\n",
      "3737           51.13        74.44      F                  12.1   \n",
      "2626           71.26        66.34      B                  29.9   \n",
      "1890           70.77        76.66      D                  25.7   \n",
      "974            65.66        85.18      C                  22.0   \n",
      "1578           99.27        86.94      C                  28.7   \n",
      "\n",
      "      Extracurricular_Activities Internet_Access_at_Home  \\\n",
      "3737                         Yes                     Yes   \n",
      "2626                          No                      No   \n",
      "1890                          No                     Yes   \n",
      "974                           No                     Yes   \n",
      "1578                          No                     Yes   \n",
      "\n",
      "      Parent_Education_Level Family_Income_Level Stress_Level (1-10)  \\\n",
      "3737              Bachelor's                High                   9   \n",
      "2626              Bachelor's                 Low                  10   \n",
      "1890                Master's                 Low                   2   \n",
      "974                      PhD              Medium                   1   \n",
      "1578              Bachelor's                 Low                   1   \n",
      "\n",
      "     Sleep_Hours_per_Night  \n",
      "3737                   8.7  \n",
      "2626                   5.6  \n",
      "1890                   7.9  \n",
      "974                    4.6  \n",
      "1578                   8.9  \n",
      "\n",
      "[5 rows x 23 columns]\n"
     ]
    }
   ],
   "source": [
    "#Training and Testing sets using scikit learning.\n",
    "from sklearn.model_selection import train_test_split\n",
    "\n",
    "train_set, test_set = train_test_split(df, test_size=0.2, random_state=123)\n",
    "print(f\"Train Set :\\n{train_set.head()}\")\n",
    "print(f\"Test Set :\\n{test_set.head()}\")"
   ]
  },
  {
   "cell_type": "code",
   "execution_count": null,
   "id": "ea352537-06e7-4289-91ad-fb22e2722296",
   "metadata": {},
   "outputs": [],
   "source": []
  }
 ],
 "metadata": {
  "kernelspec": {
   "display_name": "Python 3 (ipykernel)",
   "language": "python",
   "name": "python3"
  },
  "language_info": {
   "codemirror_mode": {
    "name": "ipython",
    "version": 3
   },
   "file_extension": ".py",
   "mimetype": "text/x-python",
   "name": "python",
   "nbconvert_exporter": "python",
   "pygments_lexer": "ipython3",
   "version": "3.13.1"
  }
 },
 "nbformat": 4,
 "nbformat_minor": 5
}
