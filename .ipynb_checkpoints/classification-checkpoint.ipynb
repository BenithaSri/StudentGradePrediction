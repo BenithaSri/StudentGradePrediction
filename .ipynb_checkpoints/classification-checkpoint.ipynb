{
 "cells": [
  {
   "cell_type": "markdown",
   "id": "cf2a44d2-1460-45b4-a636-6ebc83c0e2b0",
   "metadata": {},
   "source": [
    "# Part D \n",
    "Initial data prep section.  Read, clean and create sets."
   ]
  },
  {
   "cell_type": "markdown",
   "id": "9e8b702d-a378-4253-86ef-436ed1642e53",
   "metadata": {},
   "source": [
    "## 1. Reading the dataset"
   ]
  },
  {
   "cell_type": "code",
   "execution_count": 2,
   "id": "8cf68242-a87c-4226-9f5f-7bec2eeed28a",
   "metadata": {
    "scrolled": true
   },
   "outputs": [
    {
     "name": "stdout",
     "output_type": "stream",
     "text": [
      "  Student_ID First_Name Last_Name                    Email  Gender  Age  \\\n",
      "0      S1000       Omar  Williams  student0@university.com  Female   22   \n",
      "1      S1001      Maria     Brown  student1@university.com    Male   18   \n",
      "2      S1002      Ahmed     Jones  student2@university.com    Male   24   \n",
      "3      S1003       Omar  Williams  student3@university.com  Female   24   \n",
      "4      S1004       John     Smith  student4@university.com  Female   23   \n",
      "\n",
      "    Department  Attendance (%)  Midterm_Score  Final_Score  ...  \\\n",
      "0  Engineering           52.29          55.03        57.82  ...   \n",
      "1  Engineering           97.27          97.23        45.80  ...   \n",
      "2     Business           57.19          67.05        93.68  ...   \n",
      "3  Mathematics           95.15          47.79        80.63  ...   \n",
      "4           CS           54.18          46.59        78.89  ...   \n",
      "\n",
      "   Projects_Score  Total_Score  Grade  Study_Hours_per_Week  \\\n",
      "0           85.90        56.09      F                   6.2   \n",
      "1           55.65        50.64      A                  19.0   \n",
      "2           73.79        70.30      D                  20.7   \n",
      "3           92.12        61.63      A                  24.8   \n",
      "4           68.42        66.13      F                  15.4   \n",
      "\n",
      "   Extracurricular_Activities Internet_Access_at_Home  Parent_Education_Level  \\\n",
      "0                          No                     Yes             High School   \n",
      "1                          No                     Yes                     NaN   \n",
      "2                          No                     Yes                Master's   \n",
      "3                         Yes                     Yes             High School   \n",
      "4                         Yes                     Yes             High School   \n",
      "\n",
      "  Family_Income_Level Stress_Level (1-10) Sleep_Hours_per_Night  \n",
      "0              Medium                   5                   4.7  \n",
      "1              Medium                   4                   9.0  \n",
      "2                 Low                   6                   6.2  \n",
      "3                High                   3                   6.7  \n",
      "4                High                   2                   7.1  \n",
      "\n",
      "[5 rows x 23 columns]\n",
      "*****************************************\n",
      "<class 'pandas.core.frame.DataFrame'>\n",
      "RangeIndex: 5000 entries, 0 to 4999\n",
      "Data columns (total 23 columns):\n",
      " #   Column                      Non-Null Count  Dtype  \n",
      "---  ------                      --------------  -----  \n",
      " 0   Student_ID                  5000 non-null   object \n",
      " 1   First_Name                  5000 non-null   object \n",
      " 2   Last_Name                   5000 non-null   object \n",
      " 3   Email                       5000 non-null   object \n",
      " 4   Gender                      5000 non-null   object \n",
      " 5   Age                         5000 non-null   int64  \n",
      " 6   Department                  5000 non-null   object \n",
      " 7   Attendance (%)              4484 non-null   float64\n",
      " 8   Midterm_Score               5000 non-null   float64\n",
      " 9   Final_Score                 5000 non-null   float64\n",
      " 10  Assignments_Avg             4483 non-null   float64\n",
      " 11  Quizzes_Avg                 5000 non-null   float64\n",
      " 12  Participation_Score         5000 non-null   float64\n",
      " 13  Projects_Score              5000 non-null   float64\n",
      " 14  Total_Score                 5000 non-null   float64\n",
      " 15  Grade                       5000 non-null   object \n",
      " 16  Study_Hours_per_Week        5000 non-null   float64\n",
      " 17  Extracurricular_Activities  5000 non-null   object \n",
      " 18  Internet_Access_at_Home     5000 non-null   object \n",
      " 19  Parent_Education_Level      3206 non-null   object \n",
      " 20  Family_Income_Level         5000 non-null   object \n",
      " 21  Stress_Level (1-10)         5000 non-null   int64  \n",
      " 22  Sleep_Hours_per_Night       5000 non-null   float64\n",
      "dtypes: float64(10), int64(2), object(11)\n",
      "memory usage: 898.6+ KB\n",
      "None\n"
     ]
    }
   ],
   "source": [
    "#Loading the dataset and checking\n",
    "import pandas as pd\n",
    "\n",
    "df = pd.read_csv(\"studentsgrade.csv\")\n",
    "print(df.head())\n",
    "print(\"*****************************************\")\n",
    "print(df.info())"
   ]
  },
  {
   "cell_type": "markdown",
   "id": "d3ca57c3-9669-43ef-9e0b-24b06188ac96",
   "metadata": {},
   "source": [
    "## Checking for null and duplicate values"
   ]
  },
  {
   "cell_type": "code",
   "execution_count": 3,
   "id": "2bc34fb8-4428-4e9b-8f7b-a323affdbf61",
   "metadata": {
    "scrolled": true
   },
   "outputs": [
    {
     "name": "stdout",
     "output_type": "stream",
     "text": [
      "Missing values :\n",
      " Student_ID                       0\n",
      "First_Name                       0\n",
      "Last_Name                        0\n",
      "Email                            0\n",
      "Gender                           0\n",
      "Age                              0\n",
      "Department                       0\n",
      "Attendance (%)                 516\n",
      "Midterm_Score                    0\n",
      "Final_Score                      0\n",
      "Assignments_Avg                517\n",
      "Quizzes_Avg                      0\n",
      "Participation_Score              0\n",
      "Projects_Score                   0\n",
      "Total_Score                      0\n",
      "Grade                            0\n",
      "Study_Hours_per_Week             0\n",
      "Extracurricular_Activities       0\n",
      "Internet_Access_at_Home          0\n",
      "Parent_Education_Level        1794\n",
      "Family_Income_Level              0\n",
      "Stress_Level (1-10)              0\n",
      "Sleep_Hours_per_Night            0\n",
      "dtype: int64\n",
      "Duplicated values : 0\n"
     ]
    }
   ],
   "source": [
    "#Checking for null values and duplicat values to clean the dataset\n",
    "print(f\"Missing values :\\n {df.isnull().sum()}\")\n",
    "print(f\"Duplicated values : {df.duplicated().sum()}\")"
   ]
  },
  {
   "cell_type": "markdown",
   "id": "6d577639-e7fb-4ee4-b8a0-594a5cf3b505",
   "metadata": {},
   "source": [
    "## Cleaning the dataset"
   ]
  },
  {
   "cell_type": "code",
   "execution_count": 9,
   "id": "574962a3-f5b5-43ed-beae-a7f8132a877f",
   "metadata": {
    "scrolled": true
   },
   "outputs": [
    {
     "name": "stdout",
     "output_type": "stream",
     "text": [
      "Missing values :\n",
      " Student_ID                    0\n",
      "First_Name                    0\n",
      "Last_Name                     0\n",
      "Email                         0\n",
      "Gender                        0\n",
      "Age                           0\n",
      "Department                    0\n",
      "Attendance (%)                0\n",
      "Midterm_Score                 0\n",
      "Final_Score                   0\n",
      "Assignments_Avg               0\n",
      "Quizzes_Avg                   0\n",
      "Participation_Score           0\n",
      "Projects_Score                0\n",
      "Total_Score                   0\n",
      "Grade                         0\n",
      "Study_Hours_per_Week          0\n",
      "Extracurricular_Activities    0\n",
      "Internet_Access_at_Home       0\n",
      "Parent_Education_Level        0\n",
      "Family_Income_Level           0\n",
      "Stress_Level (1-10)           0\n",
      "Sleep_Hours_per_Night         0\n",
      "dtype: int64\n"
     ]
    }
   ],
   "source": [
    "#DataCleaning\n",
    "# Fill missing values in numerical columns with the mean.\n",
    "\n",
    "df['Attendance (%)'] = df['Attendance (%)'].fillna(df['Attendance (%)'].mean())\n",
    "df['Assignments_Avg'] = df['Assignments_Avg'].fillna(df['Assignments_Avg'].mean())\n",
    "\n",
    "#Dropping Parents_Education_Level column\n",
    "df.dropna(subset=['Parent_Education_Level'], inplace=True)\n",
    "\n",
    "print(f\"Missing values :\\n {df.isnull().sum()}\")"
   ]
  },
  {
   "cell_type": "markdown",
   "id": "f0ac0815-0cf5-4455-8cac-18a79935f913",
   "metadata": {},
   "source": [
    "## Training and Testing sets"
   ]
  },
  {
   "cell_type": "code",
   "execution_count": 7,
   "id": "ce843a11-ba38-4b7c-b74a-cf2a21c33992",
   "metadata": {
    "scrolled": true
   },
   "outputs": [
    {
     "name": "stdout",
     "output_type": "stream",
     "text": [
      "Train Set :\n",
      "     Student_ID First_Name Last_Name                       Email  Gender  Age  \\\n",
      "514       S1514       Sara  Williams   student514@university.com  Female   20   \n",
      "1921      S2921      Ahmed  Williams  student1921@university.com  Female   19   \n",
      "3999      S4999       Emma   Johnson  student3999@university.com  Female   20   \n",
      "2121      S3121      Maria     Davis  student2121@university.com  Female   18   \n",
      "4742      S5742      Maria  Williams  student4742@university.com  Female   24   \n",
      "\n",
      "       Department  Attendance (%)  Midterm_Score  Final_Score  ...  \\\n",
      "514      Business           91.65          53.79        62.82  ...   \n",
      "1921     Business           68.68          74.46        47.76  ...   \n",
      "3999  Mathematics           90.86          88.60        44.19  ...   \n",
      "2121  Engineering           92.72          49.60        63.92  ...   \n",
      "4742  Engineering           85.80          43.95        53.98  ...   \n",
      "\n",
      "      Projects_Score  Total_Score  Grade  Study_Hours_per_Week  \\\n",
      "514            54.18        58.89      A                  25.5   \n",
      "1921           68.45        89.88      C                  17.2   \n",
      "3999           71.19        81.36      A                  25.0   \n",
      "2121           86.99        77.47      A                   7.3   \n",
      "4742           74.56        89.86      A                  24.7   \n",
      "\n",
      "      Extracurricular_Activities Internet_Access_at_Home  \\\n",
      "514                           No                     Yes   \n",
      "1921                         Yes                     Yes   \n",
      "3999                          No                      No   \n",
      "2121                          No                     Yes   \n",
      "4742                          No                     Yes   \n",
      "\n",
      "      Parent_Education_Level Family_Income_Level Stress_Level (1-10)  \\\n",
      "514                      PhD                 Low                   1   \n",
      "1921             High School                 Low                   5   \n",
      "3999                     PhD              Medium                   3   \n",
      "2121             High School              Medium                  10   \n",
      "4742              Bachelor's              Medium                   5   \n",
      "\n",
      "     Sleep_Hours_per_Night  \n",
      "514                    4.1  \n",
      "1921                   7.6  \n",
      "3999                   4.8  \n",
      "2121                   5.2  \n",
      "4742                   4.6  \n",
      "\n",
      "[5 rows x 23 columns]\n",
      "Test Set :\n",
      "     Student_ID First_Name Last_Name                       Email  Gender  Age  \\\n",
      "3737      S4737      Ahmed     Jones  student3737@university.com  Female   20   \n",
      "2626      S3626       Sara   Johnson  student2626@university.com    Male   23   \n",
      "1890      S2890       Sara  Williams  student1890@university.com  Female   24   \n",
      "974       S1974      Maria     Smith   student974@university.com    Male   23   \n",
      "1578      S2578       Emma     Davis  student1578@university.com  Female   23   \n",
      "\n",
      "       Department  Attendance (%)  Midterm_Score  Final_Score  ...  \\\n",
      "3737     Business           59.70          77.67        44.89  ...   \n",
      "2626           CS           98.77          75.56        74.40  ...   \n",
      "1890  Engineering           62.39          97.09        73.90  ...   \n",
      "974            CS           54.90          77.50        66.23  ...   \n",
      "1578  Engineering           63.30          71.04        50.76  ...   \n",
      "\n",
      "      Projects_Score  Total_Score  Grade  Study_Hours_per_Week  \\\n",
      "3737           51.13        74.44      F                  12.1   \n",
      "2626           71.26        66.34      B                  29.9   \n",
      "1890           70.77        76.66      D                  25.7   \n",
      "974            65.66        85.18      C                  22.0   \n",
      "1578           99.27        86.94      C                  28.7   \n",
      "\n",
      "      Extracurricular_Activities Internet_Access_at_Home  \\\n",
      "3737                         Yes                     Yes   \n",
      "2626                          No                      No   \n",
      "1890                          No                     Yes   \n",
      "974                           No                     Yes   \n",
      "1578                          No                     Yes   \n",
      "\n",
      "      Parent_Education_Level Family_Income_Level Stress_Level (1-10)  \\\n",
      "3737              Bachelor's                High                   9   \n",
      "2626              Bachelor's                 Low                  10   \n",
      "1890                Master's                 Low                   2   \n",
      "974                      PhD              Medium                   1   \n",
      "1578              Bachelor's                 Low                   1   \n",
      "\n",
      "     Sleep_Hours_per_Night  \n",
      "3737                   8.7  \n",
      "2626                   5.6  \n",
      "1890                   7.9  \n",
      "974                    4.6  \n",
      "1578                   8.9  \n",
      "\n",
      "[5 rows x 23 columns]\n"
     ]
    }
   ],
   "source": [
    "#Training and Testing sets using scikit learning.\n",
    "from sklearn.model_selection import train_test_split\n",
    "\n",
    "train_set, test_set = train_test_split(df, test_size=0.2, random_state=123)\n",
    "print(f\"Train Set :\\n{train_set.head()}\")\n",
    "print(f\"Test Set :\\n{test_set.head()}\")"
   ]
  },
  {
   "cell_type": "markdown",
   "id": "a36f6d03-c783-457c-bdc5-bff7430d316f",
   "metadata": {},
   "source": [
    "# Part D 2\n",
    "\n",
    "Pick an initial set of features for X and the target feature y.  Explain why you made these choices.  (Note, A target that is continuous can be made discrete by creating buckets that hold a range of values. For example: If you have a feature time_of_day that ranges from 0 to 23:59, you can create 24 buckets for each of the hour intervals, 0 to 0:59, 1 to 1:59, etc.)"
   ]
  },
  {
   "cell_type": "markdown",
   "id": "08467d57-0ca0-41bf-ae80-edb16d0976ed",
   "metadata": {},
   "source": [
    "### Target Feature (y):\n",
    "\n",
    "**Grade**:\n",
    "This is a categorical variable that reflects the overall performance of the student. It directly corresponds to the outcome of interest in the dataset, and predicting the student's grade is a typical use case in educational data analysis. In this case, the grades (A, B, C, D, F) can be treated as a classification problem."
   ]
  },
  {
   "cell_type": "markdown",
   "id": "9838071d-e7d3-438b-b15c-b6f52ca64e21",
   "metadata": {},
   "source": [
    "### Initial Feature Set (X)\n",
    "1. **Attendance(%)** :Higher attendance often correlates with better academic performance, making it a strong predictor of grades.\n",
    "2. **Midterm_Score** :Reflects performance halfway through the course, helping predict how students are likely to do in the end.\n",
    "3. **Assignments_Avg** :Indicates consistency and understanding throughout the course.\n",
    "4. **Study_Hours_per_Week** :More study time often contributes to better understanding and performance.\n",
    "5. **Sleep_Hours_per_Night** :Sleep can influence cognitive function, focus, and learning capacity."
   ]
  },
  {
   "cell_type": "markdown",
   "id": "7c8b6138-a7c1-4fcb-bd22-837af07228e6",
   "metadata": {},
   "source": [
    "These features give a good mix of how well the student is doing in school and their personal habits, so they’re a smart and useful starting point for predicting their grade."
   ]
  },
  {
   "cell_type": "markdown",
   "id": "26bd9d91-6e5e-49b1-9e16-05c4c9cdf31d",
   "metadata": {},
   "source": [
    "# Part D 3\n",
    "\n",
    "Do a decision tree on  X and y.  Compute metrics."
   ]
  },
  {
   "cell_type": "code",
   "execution_count": 19,
   "id": "ab5b2a00-d479-4e74-bdd0-4bcdc93c4d68",
   "metadata": {
    "scrolled": true
   },
   "outputs": [
    {
     "name": "stdout",
     "output_type": "stream",
     "text": [
      "Accuracy: 0.3333333333333333\n",
      "\n",
      "Precision: 0.33226145723803496\n",
      "\n",
      "Recall: 0.3333333333333333\n",
      "\n",
      "F1-Score: 0.3314439033653351\n",
      "\n",
      "Confusion Matrix:\n",
      " [[97 56 15 12  9]\n",
      " [51 41  8 12 14]\n",
      " [17 15 27 23 31]\n",
      " [16 19 30 24 35]\n",
      " [12  6 20 27 25]]\n"
     ]
    }
   ],
   "source": [
    "from sklearn.tree import DecisionTreeClassifier\n",
    "from sklearn.metrics import accuracy_score, precision_score, recall_score, f1_score, confusion_matrix, classification_report\n",
    "\n",
    "# Define the features and target\n",
    "features = ['Attendance (%)', 'Midterm_Score', 'Study_Hours_per_Week', 'Sleep_Hours_per_Night']\n",
    "\n",
    "# Select features (X) and target (y) for training and testing\n",
    "X_train = train_set[features]\n",
    "y_train = train_set['Grade']\n",
    "\n",
    "X_test = test_set[features]\n",
    "y_test = test_set['Grade']\n",
    "\n",
    "# Initialize and train the Decision Tree model\n",
    "dt_model = DecisionTreeClassifier(random_state=42)\n",
    "dt_model.fit(X_train, y_train)\n",
    "\n",
    "# Predict using the trained model\n",
    "y_pred = dt_model.predict(X_test)\n",
    "\n",
    "# Calculate the accuracy\n",
    "accuracy = accuracy_score(y_test, y_pred)\n",
    "\n",
    "# Calculate Precision\n",
    "precision = precision_score(y_test, y_pred, average='weighted', zero_division=0)\n",
    "\n",
    "# Calculate Recall\n",
    "recall = recall_score(y_test, y_pred, average='weighted', zero_division=0)\n",
    "\n",
    "# Calculate F1-Score\n",
    "f1 = f1_score(y_test, y_pred, average='weighted', zero_division=0)\n",
    "\n",
    "# Confusion Matrix\n",
    "conf_matrix = confusion_matrix(y_test, y_pred)\n",
    "\n",
    "# Print the results\n",
    "print(\"Accuracy:\", accuracy)\n",
    "print(\"\\nPrecision:\", precision)\n",
    "print(\"\\nRecall:\", recall)\n",
    "print(\"\\nF1-Score:\", f1)\n",
    "print(\"\\nConfusion Matrix:\\n\", conf_matrix)"
   ]
  },
  {
   "cell_type": "markdown",
   "id": "0fd88468-149d-4113-9af7-9c645e4594c7",
   "metadata": {},
   "source": [
    "# Part D 4"
   ]
  },
  {
   "cell_type": "markdown",
   "id": "b8e17c8a-dd8f-408c-aeac-3d22d31b45c3",
   "metadata": {},
   "source": [
    "## Comments\n",
    "\n",
    "- The model has low accuracy and precision, with values around 0.33, indicating poor performance in predicting grades.\n",
    "- The confusion matrix shows significant misclassification across all grade categories.\n",
    "- The model struggles to predict grades like 'B' and 'C', with frequent misclassifications between them and other grades.\n",
    "- The balanced metrics suggest the need for improvements, such as hyperparameter tuning, feature engineering, or exploring more complex models."
   ]
  },
  {
   "cell_type": "markdown",
   "id": "5bf65520-1311-40a6-b990-d475f302bf8a",
   "metadata": {},
   "source": [
    "# Part D 5\n",
    "See if you can do better using SVM or some other multi-classifier."
   ]
  },
  {
   "cell_type": "code",
   "execution_count": 23,
   "id": "38f802a3-4803-4d77-befb-ea7b756b82be",
   "metadata": {},
   "outputs": [
    {
     "name": "stdout",
     "output_type": "stream",
     "text": [
      "Accuracy: 0.367601246105919\n",
      "Precision: 0.3900316162290461\n",
      "Recall: 0.367601246105919\n",
      "F1-Score: 0.2607990345753311\n",
      "Confusion Matrix:\n",
      "[[156   0   0  25   8]\n",
      " [ 99   0   0  17  10]\n",
      " [ 47   2   0  55   9]\n",
      " [ 46   1   0  71   6]\n",
      " [ 36   0   0  45   9]]\n"
     ]
    }
   ],
   "source": [
    "from sklearn.svm import SVC\n",
    "from sklearn.metrics import accuracy_score, precision_score, recall_score, f1_score, confusion_matrix\n",
    "\n",
    "# Initialize the SVM classifier\n",
    "svm_model = SVC(random_state=42, kernel='linear')\n",
    "\n",
    "# Fit the model on the training data\n",
    "svm_model.fit(X_train, y_train)\n",
    "\n",
    "# Make predictions on the test set\n",
    "y_pred_svm = svm_model.predict(X_test)\n",
    "\n",
    "# Calculate the metrics for the SVM model with zero_division=1 to handle undefined cases\n",
    "accuracy_svm = accuracy_score(y_test, y_pred_svm)\n",
    "precision_svm = precision_score(y_test, y_pred_svm, average='weighted', zero_division=1)\n",
    "recall_svm = recall_score(y_test, y_pred_svm, average='weighted', zero_division=1)\n",
    "f1_svm = f1_score(y_test, y_pred_svm, average='weighted', zero_division=1)\n",
    "conf_matrix_svm = confusion_matrix(y_test, y_pred_svm)\n",
    "\n",
    "# Print the results\n",
    "print(f\"Accuracy: {accuracy_svm}\")\n",
    "print(f\"Precision: {precision_svm}\")\n",
    "print(f\"Recall: {recall_svm}\")\n",
    "print(f\"F1-Score: {f1_svm}\")\n",
    "print(f\"Confusion Matrix:\\n{conf_matrix_svm}\")\n"
   ]
  },
  {
   "cell_type": "markdown",
   "id": "493518c2-51e1-4593-92c0-00a99fe5a329",
   "metadata": {},
   "source": [
    "# Part D 6\n",
    "\n",
    "Do a final evaluation with the test set."
   ]
  },
  {
   "cell_type": "code",
   "execution_count": 24,
   "id": "0d7e6f3e-a7a0-4ec5-ada2-0d8483f40ac9",
   "metadata": {},
   "outputs": [
    {
     "name": "stdout",
     "output_type": "stream",
     "text": [
      "Final Evaluation on Test Set:\n",
      "Accuracy: 0.367601246105919\n",
      "Precision: 0.3900316162290461\n",
      "Recall: 0.367601246105919\n",
      "F1-Score: 0.2607990345753311\n",
      "Confusion Matrix:\n",
      "[[156   0   0  25   8]\n",
      " [ 99   0   0  17  10]\n",
      " [ 47   2   0  55   9]\n",
      " [ 46   1   0  71   6]\n",
      " [ 36   0   0  45   9]]\n"
     ]
    }
   ],
   "source": [
    "# Evaluate SVM model on the test set\n",
    "\n",
    "# Calculate the metrics for the SVM model with zero_division=1 to handle undefined cases\n",
    "accuracy_svm_test = accuracy_score(y_test, y_pred_svm)\n",
    "precision_svm_test = precision_score(y_test, y_pred_svm, average='weighted', zero_division=1)\n",
    "recall_svm_test = recall_score(y_test, y_pred_svm, average='weighted', zero_division=1)\n",
    "f1_svm_test = f1_score(y_test, y_pred_svm, average='weighted', zero_division=1)\n",
    "conf_matrix_svm_test = confusion_matrix(y_test, y_pred_svm)\n",
    "\n",
    "# Print the final evaluation results\n",
    "print(\"Final Evaluation on Test Set:\")\n",
    "print(f\"Accuracy: {accuracy_svm_test}\")\n",
    "print(f\"Precision: {precision_svm_test}\")\n",
    "print(f\"Recall: {recall_svm_test}\")\n",
    "print(f\"F1-Score: {f1_svm_test}\")\n",
    "print(f\"Confusion Matrix:\\n{conf_matrix_svm_test}\")\n"
   ]
  },
  {
   "cell_type": "markdown",
   "id": "28d04fce-bdda-4ff4-8501-47e96af7e058",
   "metadata": {},
   "source": [
    "# Part D 7\n",
    "Look at the parameters you found and discuss what you have learned."
   ]
  },
  {
   "cell_type": "markdown",
   "id": "beaf0e61-797f-4e81-bd21-d678646b13ef",
   "metadata": {},
   "source": [
    "### Decision Tree\n",
    "\n",
    "The Decision Tree model provides an accuracy of approximately 33%, which suggests that the model struggles to effectively distinguish between the five different grade categories. Precision, recall, and F1-score are also around 33%, indicating a similar performance across all classes. The confusion matrix shows significant misclassification between some of the grades. For example, 'A' is often misclassified as 'C', and 'F' is frequently predicted as 'C' or 'D'."
   ]
  },
  {
   "cell_type": "markdown",
   "id": "290c1b93-cf58-47b1-ad60-993cc354cdcc",
   "metadata": {},
   "source": [
    "### SVM\n",
    "\n",
    "The SVM model gives a slight improvement in accuracy over the Decision Tree (36.76% compared to 33.33%). However, the precision, recall, and F1-score show that SVM still has room for improvement in predicting the grades. The confusion matrix indicates that SVM makes some strong predictions in terms of specific classes (e.g., 'A' is often predicted correctly), but it still suffers from misclassifications, particularly for grades like 'B' and 'D'. There is also a tendency for the SVM to misclassify grades into adjacent categories (e.g., 'A' being misclassified as 'D')."
   ]
  },
  {
   "cell_type": "markdown",
   "id": "756262ad-617c-45c5-a09e-56fc07cc147b",
   "metadata": {},
   "source": [
    "### Conclusion:\n",
    "\n",
    "Both the Decision Tree and SVM models show modest performance, with the SVM slightly outperforming the Decision Tree in terms of accuracy. However, there is significant room for improvement in all metrics. Further investigation into feature selection, model tuning, and possibly adding more data could lead to better predictions."
   ]
  }
 ],
 "metadata": {
  "kernelspec": {
   "display_name": "Python 3 (ipykernel)",
   "language": "python",
   "name": "python3"
  },
  "language_info": {
   "codemirror_mode": {
    "name": "ipython",
    "version": 3
   },
   "file_extension": ".py",
   "mimetype": "text/x-python",
   "name": "python",
   "nbconvert_exporter": "python",
   "pygments_lexer": "ipython3",
   "version": "3.13.1"
  }
 },
 "nbformat": 4,
 "nbformat_minor": 5
}
