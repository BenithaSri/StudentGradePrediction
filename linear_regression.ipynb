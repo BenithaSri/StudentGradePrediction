{
 "cells": [
  {
   "cell_type": "code",
   "execution_count": 1,
   "id": "df5b1dd9-8273-4cd1-b2e9-b86177c77f3c",
   "metadata": {},
   "outputs": [
    {
     "name": "stdout",
     "output_type": "stream",
     "text": [
      "Requirement already satisfied: pandas in /Users/benithasripanchagiri/ds-venv/lib/python3.13/site-packages (2.2.3)\n",
      "Requirement already satisfied: numpy>=1.26.0 in /Users/benithasripanchagiri/ds-venv/lib/python3.13/site-packages (from pandas) (2.2.1)\n",
      "Requirement already satisfied: python-dateutil>=2.8.2 in /Users/benithasripanchagiri/ds-venv/lib/python3.13/site-packages (from pandas) (2.9.0.post0)\n",
      "Requirement already satisfied: pytz>=2020.1 in /Users/benithasripanchagiri/ds-venv/lib/python3.13/site-packages (from pandas) (2025.1)\n",
      "Requirement already satisfied: tzdata>=2022.7 in /Users/benithasripanchagiri/ds-venv/lib/python3.13/site-packages (from pandas) (2025.1)\n",
      "Requirement already satisfied: six>=1.5 in /Users/benithasripanchagiri/ds-venv/lib/python3.13/site-packages (from python-dateutil>=2.8.2->pandas) (1.17.0)\n",
      "\n",
      "\u001b[1m[\u001b[0m\u001b[34;49mnotice\u001b[0m\u001b[1;39;49m]\u001b[0m\u001b[39;49m A new release of pip is available: \u001b[0m\u001b[31;49m24.3.1\u001b[0m\u001b[39;49m -> \u001b[0m\u001b[32;49m25.0.1\u001b[0m\n",
      "\u001b[1m[\u001b[0m\u001b[34;49mnotice\u001b[0m\u001b[1;39;49m]\u001b[0m\u001b[39;49m To update, run: \u001b[0m\u001b[32;49mpip install --upgrade pip\u001b[0m\n"
     ]
    }
   ],
   "source": [
    "!pip install pandas"
   ]
  },
  {
   "cell_type": "code",
   "execution_count": 2,
   "id": "d1331419-c608-4a26-952e-cf7eb4b46baa",
   "metadata": {},
   "outputs": [
    {
     "name": "stdout",
     "output_type": "stream",
     "text": [
      "  Student_ID First_Name Last_Name                    Email  Gender  Age  \\\n",
      "0      S1000       Omar  Williams  student0@university.com  Female   22   \n",
      "1      S1001      Maria     Brown  student1@university.com    Male   18   \n",
      "2      S1002      Ahmed     Jones  student2@university.com    Male   24   \n",
      "3      S1003       Omar  Williams  student3@university.com  Female   24   \n",
      "4      S1004       John     Smith  student4@university.com  Female   23   \n",
      "\n",
      "    Department  Attendance (%)  Midterm_Score  Final_Score  ...  \\\n",
      "0  Engineering           52.29          55.03        57.82  ...   \n",
      "1  Engineering           97.27          97.23        45.80  ...   \n",
      "2     Business           57.19          67.05        93.68  ...   \n",
      "3  Mathematics           95.15          47.79        80.63  ...   \n",
      "4           CS           54.18          46.59        78.89  ...   \n",
      "\n",
      "   Projects_Score  Total_Score  Grade  Study_Hours_per_Week  \\\n",
      "0           85.90        56.09      F                   6.2   \n",
      "1           55.65        50.64      A                  19.0   \n",
      "2           73.79        70.30      D                  20.7   \n",
      "3           92.12        61.63      A                  24.8   \n",
      "4           68.42        66.13      F                  15.4   \n",
      "\n",
      "   Extracurricular_Activities Internet_Access_at_Home  Parent_Education_Level  \\\n",
      "0                          No                     Yes             High School   \n",
      "1                          No                     Yes                     NaN   \n",
      "2                          No                     Yes                Master's   \n",
      "3                         Yes                     Yes             High School   \n",
      "4                         Yes                     Yes             High School   \n",
      "\n",
      "  Family_Income_Level Stress_Level (1-10) Sleep_Hours_per_Night  \n",
      "0              Medium                   5                   4.7  \n",
      "1              Medium                   4                   9.0  \n",
      "2                 Low                   6                   6.2  \n",
      "3                High                   3                   6.7  \n",
      "4                High                   2                   7.1  \n",
      "\n",
      "[5 rows x 23 columns]\n",
      "<class 'pandas.core.frame.DataFrame'>\n",
      "RangeIndex: 5000 entries, 0 to 4999\n",
      "Data columns (total 23 columns):\n",
      " #   Column                      Non-Null Count  Dtype  \n",
      "---  ------                      --------------  -----  \n",
      " 0   Student_ID                  5000 non-null   object \n",
      " 1   First_Name                  5000 non-null   object \n",
      " 2   Last_Name                   5000 non-null   object \n",
      " 3   Email                       5000 non-null   object \n",
      " 4   Gender                      5000 non-null   object \n",
      " 5   Age                         5000 non-null   int64  \n",
      " 6   Department                  5000 non-null   object \n",
      " 7   Attendance (%)              4484 non-null   float64\n",
      " 8   Midterm_Score               5000 non-null   float64\n",
      " 9   Final_Score                 5000 non-null   float64\n",
      " 10  Assignments_Avg             4483 non-null   float64\n",
      " 11  Quizzes_Avg                 5000 non-null   float64\n",
      " 12  Participation_Score         5000 non-null   float64\n",
      " 13  Projects_Score              5000 non-null   float64\n",
      " 14  Total_Score                 5000 non-null   float64\n",
      " 15  Grade                       5000 non-null   object \n",
      " 16  Study_Hours_per_Week        5000 non-null   float64\n",
      " 17  Extracurricular_Activities  5000 non-null   object \n",
      " 18  Internet_Access_at_Home     5000 non-null   object \n",
      " 19  Parent_Education_Level      3206 non-null   object \n",
      " 20  Family_Income_Level         5000 non-null   object \n",
      " 21  Stress_Level (1-10)         5000 non-null   int64  \n",
      " 22  Sleep_Hours_per_Night       5000 non-null   float64\n",
      "dtypes: float64(10), int64(2), object(11)\n",
      "memory usage: 898.6+ KB\n",
      "None\n"
     ]
    }
   ],
   "source": [
    "#Loading the dataset and checking\n",
    "import pandas as pd\n",
    "\n",
    "df = pd.read_csv(\"studentsgrade.csv\")\n",
    "print(df.head())\n",
    "print(df.info())"
   ]
  },
  {
   "cell_type": "code",
   "execution_count": 3,
   "id": "e0ad90e6-5cbc-4d3f-805e-cee2d9c4d935",
   "metadata": {},
   "outputs": [
    {
     "name": "stdout",
     "output_type": "stream",
     "text": [
      "Missing values :\n",
      " Student_ID                       0\n",
      "First_Name                       0\n",
      "Last_Name                        0\n",
      "Email                            0\n",
      "Gender                           0\n",
      "Age                              0\n",
      "Department                       0\n",
      "Attendance (%)                 516\n",
      "Midterm_Score                    0\n",
      "Final_Score                      0\n",
      "Assignments_Avg                517\n",
      "Quizzes_Avg                      0\n",
      "Participation_Score              0\n",
      "Projects_Score                   0\n",
      "Total_Score                      0\n",
      "Grade                            0\n",
      "Study_Hours_per_Week             0\n",
      "Extracurricular_Activities       0\n",
      "Internet_Access_at_Home          0\n",
      "Parent_Education_Level        1794\n",
      "Family_Income_Level              0\n",
      "Stress_Level (1-10)              0\n",
      "Sleep_Hours_per_Night            0\n",
      "dtype: int64\n",
      "Duplicated values : 0\n"
     ]
    }
   ],
   "source": [
    "#Checking for null values and duplicat values to clean the dataset\n",
    "print(f\"Missing values :\\n {df.isnull().sum()}\")\n",
    "print(f\"Duplicated values : {df.duplicated().sum()}\")"
   ]
  },
  {
   "cell_type": "code",
   "execution_count": 5,
   "id": "f63a9b15-7d86-4cb3-a04a-7a5e2a4dc9b0",
   "metadata": {},
   "outputs": [
    {
     "name": "stdout",
     "output_type": "stream",
     "text": [
      "Missing values :\n",
      " Student_ID                    0\n",
      "First_Name                    0\n",
      "Last_Name                     0\n",
      "Email                         0\n",
      "Gender                        0\n",
      "Age                           0\n",
      "Department                    0\n",
      "Attendance (%)                0\n",
      "Midterm_Score                 0\n",
      "Final_Score                   0\n",
      "Assignments_Avg               0\n",
      "Quizzes_Avg                   0\n",
      "Participation_Score           0\n",
      "Projects_Score                0\n",
      "Total_Score                   0\n",
      "Grade                         0\n",
      "Study_Hours_per_Week          0\n",
      "Extracurricular_Activities    0\n",
      "Internet_Access_at_Home       0\n",
      "Parent_Education_Level        0\n",
      "Family_Income_Level           0\n",
      "Stress_Level (1-10)           0\n",
      "Sleep_Hours_per_Night         0\n",
      "dtype: int64\n"
     ]
    }
   ],
   "source": [
    "#DataCleaning\n",
    "# Fill missing values in numerical columns with the mean.\n",
    "\n",
    "df['Attendance (%)'] = df['Attendance (%)'].fillna(df['Attendance (%)'].mean())\n",
    "df['Assignments_Avg'] = df['Assignments_Avg'].fillna(df['Assignments_Avg'].mean())\n",
    "\n",
    "#Dropping Parents_Education_Level column\n",
    "df.dropna(subset=['Parent_Education_Level'], inplace=True)\n",
    "\n",
    "print(f\"Missing values :\\n {df.isnull().sum()}\")"
   ]
  },
  {
   "cell_type": "code",
   "execution_count": 6,
   "id": "9289605d-11b0-4699-b950-fb4112082b45",
   "metadata": {
    "scrolled": true
   },
   "outputs": [
    {
     "name": "stdout",
     "output_type": "stream",
     "text": [
      "Requirement already satisfied: scikit-learn in /Users/benithasripanchagiri/ds-venv/lib/python3.13/site-packages (1.6.1)\n",
      "Requirement already satisfied: numpy>=1.19.5 in /Users/benithasripanchagiri/ds-venv/lib/python3.13/site-packages (from scikit-learn) (2.2.1)\n",
      "Requirement already satisfied: scipy>=1.6.0 in /Users/benithasripanchagiri/ds-venv/lib/python3.13/site-packages (from scikit-learn) (1.15.2)\n",
      "Requirement already satisfied: joblib>=1.2.0 in /Users/benithasripanchagiri/ds-venv/lib/python3.13/site-packages (from scikit-learn) (1.4.2)\n",
      "Requirement already satisfied: threadpoolctl>=3.1.0 in /Users/benithasripanchagiri/ds-venv/lib/python3.13/site-packages (from scikit-learn) (3.5.0)\n",
      "\n",
      "\u001b[1m[\u001b[0m\u001b[34;49mnotice\u001b[0m\u001b[1;39;49m]\u001b[0m\u001b[39;49m A new release of pip is available: \u001b[0m\u001b[31;49m24.3.1\u001b[0m\u001b[39;49m -> \u001b[0m\u001b[32;49m25.0.1\u001b[0m\n",
      "\u001b[1m[\u001b[0m\u001b[34;49mnotice\u001b[0m\u001b[1;39;49m]\u001b[0m\u001b[39;49m To update, run: \u001b[0m\u001b[32;49mpip install --upgrade pip\u001b[0m\n"
     ]
    }
   ],
   "source": [
    "!pip install scikit-learn"
   ]
  },
  {
   "cell_type": "code",
   "execution_count": 7,
   "id": "4389004c-330b-4c60-b8f3-28d49a6e6c33",
   "metadata": {
    "scrolled": true
   },
   "outputs": [
    {
     "name": "stdout",
     "output_type": "stream",
     "text": [
      "Train Set :\n",
      "     Student_ID First_Name Last_Name                       Email  Gender  Age  \\\n",
      "514       S1514       Sara  Williams   student514@university.com  Female   20   \n",
      "1921      S2921      Ahmed  Williams  student1921@university.com  Female   19   \n",
      "3999      S4999       Emma   Johnson  student3999@university.com  Female   20   \n",
      "2121      S3121      Maria     Davis  student2121@university.com  Female   18   \n",
      "4742      S5742      Maria  Williams  student4742@university.com  Female   24   \n",
      "\n",
      "       Department  Attendance (%)  Midterm_Score  Final_Score  ...  \\\n",
      "514      Business           91.65          53.79        62.82  ...   \n",
      "1921     Business           68.68          74.46        47.76  ...   \n",
      "3999  Mathematics           90.86          88.60        44.19  ...   \n",
      "2121  Engineering           92.72          49.60        63.92  ...   \n",
      "4742  Engineering           85.80          43.95        53.98  ...   \n",
      "\n",
      "      Projects_Score  Total_Score  Grade  Study_Hours_per_Week  \\\n",
      "514            54.18        58.89      A                  25.5   \n",
      "1921           68.45        89.88      C                  17.2   \n",
      "3999           71.19        81.36      A                  25.0   \n",
      "2121           86.99        77.47      A                   7.3   \n",
      "4742           74.56        89.86      A                  24.7   \n",
      "\n",
      "      Extracurricular_Activities Internet_Access_at_Home  \\\n",
      "514                           No                     Yes   \n",
      "1921                         Yes                     Yes   \n",
      "3999                          No                      No   \n",
      "2121                          No                     Yes   \n",
      "4742                          No                     Yes   \n",
      "\n",
      "      Parent_Education_Level Family_Income_Level Stress_Level (1-10)  \\\n",
      "514                      PhD                 Low                   1   \n",
      "1921             High School                 Low                   5   \n",
      "3999                     PhD              Medium                   3   \n",
      "2121             High School              Medium                  10   \n",
      "4742              Bachelor's              Medium                   5   \n",
      "\n",
      "     Sleep_Hours_per_Night  \n",
      "514                    4.1  \n",
      "1921                   7.6  \n",
      "3999                   4.8  \n",
      "2121                   5.2  \n",
      "4742                   4.6  \n",
      "\n",
      "[5 rows x 23 columns]\n",
      "Test Set :\n",
      "     Student_ID First_Name Last_Name                       Email  Gender  Age  \\\n",
      "3737      S4737      Ahmed     Jones  student3737@university.com  Female   20   \n",
      "2626      S3626       Sara   Johnson  student2626@university.com    Male   23   \n",
      "1890      S2890       Sara  Williams  student1890@university.com  Female   24   \n",
      "974       S1974      Maria     Smith   student974@university.com    Male   23   \n",
      "1578      S2578       Emma     Davis  student1578@university.com  Female   23   \n",
      "\n",
      "       Department  Attendance (%)  Midterm_Score  Final_Score  ...  \\\n",
      "3737     Business           59.70          77.67        44.89  ...   \n",
      "2626           CS           98.77          75.56        74.40  ...   \n",
      "1890  Engineering           62.39          97.09        73.90  ...   \n",
      "974            CS           54.90          77.50        66.23  ...   \n",
      "1578  Engineering           63.30          71.04        50.76  ...   \n",
      "\n",
      "      Projects_Score  Total_Score  Grade  Study_Hours_per_Week  \\\n",
      "3737           51.13        74.44      F                  12.1   \n",
      "2626           71.26        66.34      B                  29.9   \n",
      "1890           70.77        76.66      D                  25.7   \n",
      "974            65.66        85.18      C                  22.0   \n",
      "1578           99.27        86.94      C                  28.7   \n",
      "\n",
      "      Extracurricular_Activities Internet_Access_at_Home  \\\n",
      "3737                         Yes                     Yes   \n",
      "2626                          No                      No   \n",
      "1890                          No                     Yes   \n",
      "974                           No                     Yes   \n",
      "1578                          No                     Yes   \n",
      "\n",
      "      Parent_Education_Level Family_Income_Level Stress_Level (1-10)  \\\n",
      "3737              Bachelor's                High                   9   \n",
      "2626              Bachelor's                 Low                  10   \n",
      "1890                Master's                 Low                   2   \n",
      "974                      PhD              Medium                   1   \n",
      "1578              Bachelor's                 Low                   1   \n",
      "\n",
      "     Sleep_Hours_per_Night  \n",
      "3737                   8.7  \n",
      "2626                   5.6  \n",
      "1890                   7.9  \n",
      "974                    4.6  \n",
      "1578                   8.9  \n",
      "\n",
      "[5 rows x 23 columns]\n"
     ]
    }
   ],
   "source": [
    "#Training and Testing sets using scikit learning.\n",
    "from sklearn.model_selection import train_test_split\n",
    "\n",
    "train_set, test_set = train_test_split(df, test_size=0.2, random_state=123)\n",
    "print(f\"Train Set :\\n{train_set.head()}\")\n",
    "print(f\"Test Set :\\n{test_set.head()}\")"
   ]
  },
  {
   "cell_type": "markdown",
   "id": "2c30a921-5f76-478f-9b77-2cf74edbd282",
   "metadata": {},
   "source": [
    "## Features for X : Reason for choosing\n",
    "1. Attendance(%): Attendance is often an important factor in academic performance. \n",
    "2. Midterm_Score: Midterm exams are a good indicator of a student's performance during the first half of the course, and it's likely to be a strong predictor of the final score.\n",
    "3. Assignments_Avg: Average assignment scores show how well students are performing on regular assessments.\n",
    "4. Projects_Score: Projects often carry significant weight in many courses.\n",
    "5. Study_Hours_per_Week: The amount of time a student dedicates to studying might influence their academic performance.\n",
    "\n",
    "## Target Feature for Y : Reason for choosing\n",
    "Total_Score : It is a final score that likely reflects the overall performance of a student based on various academic factors (attendance, scores in midterm, assignments, quizzes, etc.). Predicting this value makes sense, as it integrates multiple factors that could indicate how well a student is performing overall.\n"
   ]
  },
  {
   "cell_type": "markdown",
   "id": "54e4d01e-81a3-4699-94f9-8e87d2ce9a27",
   "metadata": {},
   "source": [
    "# Liner Regression"
   ]
  },
  {
   "cell_type": "code",
   "execution_count": 10,
   "id": "c32589af-6dca-48f3-8864-b83b7e500edc",
   "metadata": {},
   "outputs": [
    {
     "name": "stdout",
     "output_type": "stream",
     "text": [
      "Model Coefficients: [-0.0217644   0.00588691 -0.00197138  0.01322952  0.00138253]\n",
      "Model Intercept: 76.38604706742704\n"
     ]
    }
   ],
   "source": [
    "import pandas as pd\n",
    "from sklearn.linear_model import LinearRegression\n",
    "from sklearn.model_selection import train_test_split\n",
    "\n",
    "# Selecting independent variables (features) and the dependent variable (target)\n",
    "X = df[['Attendance (%)', 'Midterm_Score', 'Assignments_Avg', 'Study_Hours_per_Week', 'Stress_Level (1-10)']]\n",
    "y = df['Total_Score']\n",
    "\n",
    "# Split the data into training and testing sets (80% training, 20% testing)\n",
    "X_train, X_test, y_train, y_test = train_test_split(X, y, test_size=0.2, random_state=123)\n",
    "\n",
    "# Initialize the linear regression model\n",
    "model = LinearRegression()\n",
    "\n",
    "# Fit the model on the training data\n",
    "model.fit(X_train, y_train)\n",
    "\n",
    "# Displaying the model's coefficients and intercept\n",
    "print(\"Model Coefficients:\", model.coef_)\n",
    "print(\"Model Intercept:\", model.intercept_)"
   ]
  },
  {
   "cell_type": "markdown",
   "id": "b8c77cbf-aa80-40bb-8395-44b72a292d71",
   "metadata": {},
   "source": [
    "# Metric for Linear Regression"
   ]
  },
  {
   "cell_type": "code",
   "execution_count": 13,
   "id": "72ac4b01-339b-491d-9e9b-bb06f733be5f",
   "metadata": {
    "scrolled": true
   },
   "outputs": [
    {
     "name": "stdout",
     "output_type": "stream",
     "text": [
      "Requirement already satisfied: scikit-learn in /Users/benithasripanchagiri/ds-venv/lib/python3.13/site-packages (1.6.1)\n",
      "Requirement already satisfied: numpy>=1.19.5 in /Users/benithasripanchagiri/ds-venv/lib/python3.13/site-packages (from scikit-learn) (2.2.1)\n",
      "Requirement already satisfied: scipy>=1.6.0 in /Users/benithasripanchagiri/ds-venv/lib/python3.13/site-packages (from scikit-learn) (1.15.2)\n",
      "Requirement already satisfied: joblib>=1.2.0 in /Users/benithasripanchagiri/ds-venv/lib/python3.13/site-packages (from scikit-learn) (1.4.2)\n",
      "Requirement already satisfied: threadpoolctl>=3.1.0 in /Users/benithasripanchagiri/ds-venv/lib/python3.13/site-packages (from scikit-learn) (3.5.0)\n",
      "\n",
      "\u001b[1m[\u001b[0m\u001b[34;49mnotice\u001b[0m\u001b[1;39;49m]\u001b[0m\u001b[39;49m A new release of pip is available: \u001b[0m\u001b[31;49m24.3.1\u001b[0m\u001b[39;49m -> \u001b[0m\u001b[32;49m25.0.1\u001b[0m\n",
      "\u001b[1m[\u001b[0m\u001b[34;49mnotice\u001b[0m\u001b[1;39;49m]\u001b[0m\u001b[39;49m To update, run: \u001b[0m\u001b[32;49mpip install --upgrade pip\u001b[0m\n"
     ]
    }
   ],
   "source": [
    "!pip install --upgrade scikit-learn"
   ]
  },
  {
   "cell_type": "code",
   "execution_count": 14,
   "id": "5cd55901-c203-4227-b805-00155789f459",
   "metadata": {},
   "outputs": [
    {
     "name": "stdout",
     "output_type": "stream",
     "text": [
      "Mean Absolute Error (MAE): 12.728924761885667\n",
      "Mean Squared Error (MSE): 212.68047617415527\n",
      "Root Mean Squared Error (RMSE): 14.583568705023996\n",
      "R-squared (R²): -0.004400088485450926\n"
     ]
    }
   ],
   "source": [
    "from sklearn.linear_model import LinearRegression\n",
    "from sklearn.metrics import mean_absolute_error, mean_squared_error, r2_score\n",
    "\n",
    "# Train the model\n",
    "model = LinearRegression()\n",
    "model.fit(X_train, y_train)\n",
    "\n",
    "# Make predictions on the test set\n",
    "y_pred = model.predict(X_test)\n",
    "\n",
    "# Calculate the Mean Absolute Error\n",
    "mae = mean_absolute_error(y_test, y_pred)\n",
    "\n",
    "# Calculate the Mean Squared Error\n",
    "mse = mean_squared_error(y_test, y_pred)\n",
    "\n",
    "# Calculate the Root Mean Squared Error manually\n",
    "rmse = mse**0.5\n",
    "\n",
    "# Calculate the R-squared score\n",
    "r2 = r2_score(y_test, y_pred)\n",
    "\n",
    "# Display the metrics\n",
    "print(f\"Mean Absolute Error (MAE): {mae}\")\n",
    "print(f\"Mean Squared Error (MSE): {mse}\")\n",
    "print(f\"Root Mean Squared Error (RMSE): {rmse}\")\n",
    "print(f\"R-squared (R²): {r2}\")\n"
   ]
  },
  {
   "cell_type": "markdown",
   "id": "984affb6-2fc0-491a-b1be-2895dbcc20cf",
   "metadata": {},
   "source": [
    "# Results\n",
    "\n",
    "The current linear regression model is not performing well, especially with the negative R² value. The MAE, MSE, and RMSE also indicate that the model's predictions are significantly off from the actual values.\n",
    "\n",
    "To improve the model:\n",
    "1. Feature Engineering: Create or transform features to better represent the underlying data.\n",
    "2. Scale the Data: Normalize or standardize the features to ensure equal treatment.\n",
    "3. Try Other Models: Test more complex models like Random Forest, Gradient Boosting, or Decision Trees."
   ]
  },
  {
   "cell_type": "markdown",
   "id": "63ed99df-88ef-4edc-bca5-4435b0b93768",
   "metadata": {},
   "source": [
    "## Trying to make it better"
   ]
  },
  {
   "cell_type": "markdown",
   "id": "a0148d68-8286-48bf-9178-ff78f6b8af75",
   "metadata": {},
   "source": [
    "We are using feature engineering—creating new features or using other features to improve the model's performance."
   ]
  },
  {
   "cell_type": "code",
   "execution_count": 18,
   "id": "048a5c51-23d9-4ea4-a9e0-cd1d4271c3c1",
   "metadata": {},
   "outputs": [
    {
     "name": "stdout",
     "output_type": "stream",
     "text": [
      "Mean Absolute Error (MAE): 12.721761074054058\n",
      "Mean Squared Error (MSE): 212.1114638716236\n",
      "Root Mean Squared Error (RMSE): 14.564046960636443\n",
      "R-squared (R²): -0.0017128836357489519\n",
      "Model Coefficients: [ 0.09998032  0.01245963  0.0104135  -0.02178634 -0.08703666]\n",
      "Model Intercept: 73.69048200276461\n"
     ]
    }
   ],
   "source": [
    "import pandas as pd\n",
    "from sklearn.linear_model import LinearRegression\n",
    "from sklearn.model_selection import train_test_split\n",
    "from sklearn.metrics import mean_absolute_error, mean_squared_error, r2_score\n",
    "import numpy as np\n",
    "\n",
    "# Selecting different independent variables (features)\n",
    "X = df[['Age', 'Final_Score', 'Quizzes_Avg', 'Projects_Score', 'Sleep_Hours_per_Night']]\n",
    "y = df['Total_Score']\n",
    "\n",
    "# Split the data into training and testing sets (80% training, 20% testing)\n",
    "X_train, X_test, y_train, y_test = train_test_split(X, y, test_size=0.2, random_state=123)\n",
    "\n",
    "# Initialize the linear regression model\n",
    "model = LinearRegression()\n",
    "\n",
    "# Fit the model on the training data\n",
    "model.fit(X_train, y_train)\n",
    "\n",
    "# Make predictions on the test data\n",
    "y_pred = model.predict(X_test)\n",
    "\n",
    "# Calculate performance metrics\n",
    "mae = mean_absolute_error(y_test, y_pred)\n",
    "mse = mean_squared_error(y_test, y_pred)\n",
    "rmse = np.sqrt(mse)  # RMSE is the square root of MSE\n",
    "r2 = r2_score(y_test, y_pred)\n",
    "\n",
    "# Display the metrics\n",
    "print(f\"Mean Absolute Error (MAE): {mae}\")\n",
    "print(f\"Mean Squared Error (MSE): {mse}\")\n",
    "print(f\"Root Mean Squared Error (RMSE): {rmse}\")\n",
    "print(f\"R-squared (R²): {r2}\")\n",
    "\n",
    "# Displaying the model's coefficients and intercept\n",
    "print(\"Model Coefficients:\", model.coef_)\n",
    "print(\"Model Intercept:\", model.intercept_)\n"
   ]
  },
  {
   "cell_type": "markdown",
   "id": "6fb16403-0f64-469c-af6a-bde0c4aa7001",
   "metadata": {},
   "source": [
    "# Results\n",
    "\n",
    "The new model is slightly better than the previous one, but the improvement is marginal:\n",
    "1. MAE, MSE, RMSE: These errors are slightly lower in the new model, indicating a slight reduction in prediction error.\n",
    "2. R²: The R² value is closer to zero in the new model, showing a very small improvement in how much variance the model explains in the target variable."
   ]
  },
  {
   "cell_type": "markdown",
   "id": "abaa02ad-2fff-4a0a-a30d-c1dd90ba8481",
   "metadata": {},
   "source": [
    "# Final evaluation with the test set."
   ]
  },
  {
   "cell_type": "code",
   "execution_count": 20,
   "id": "afebf208-4349-4654-b903-a978a9852be3",
   "metadata": {},
   "outputs": [
    {
     "name": "stdout",
     "output_type": "stream",
     "text": [
      "Test Set Evaluation:\n",
      "Mean Absolute Error (MAE): 12.721761074054058\n",
      "Mean Squared Error (MSE): 212.1114638716236\n",
      "Root Mean Squared Error (RMSE): 14.564046960636443\n",
      "R-squared (R²): -0.0017128836357489519\n"
     ]
    }
   ],
   "source": [
    "#from sklearn.metrics import mean_absolute_error, mean_squared_error, r2_score\n",
    "\n",
    "# Make predictions using the test set\n",
    "y_pred_test = model.predict(X_test)\n",
    "\n",
    "# Calculate the evaluation metrics for the test set\n",
    "mae_test = mean_absolute_error(y_test, y_pred_test)\n",
    "mse_test = mean_squared_error(y_test, y_pred_test)\n",
    "\n",
    "# Manually calculate RMSE by taking the square root of MSE\n",
    "rmse_test = mse_test ** 0.5\n",
    "r2_test = r2_score(y_test, y_pred_test)\n",
    "\n",
    "# Display the evaluation metrics for the test set\n",
    "print(\"Test Set Evaluation:\")\n",
    "print(f\"Mean Absolute Error (MAE): {mae_test}\")\n",
    "print(f\"Mean Squared Error (MSE): {mse_test}\")\n",
    "print(f\"Root Mean Squared Error (RMSE): {rmse_test}\")\n",
    "print(f\"R-squared (R²): {r2_test}\")\n"
   ]
  },
  {
   "cell_type": "markdown",
   "id": "65570aa8-edd0-49ee-b60d-6cab2c8ba5d1",
   "metadata": {},
   "source": [
    "# Parameters used in linear regression\n",
    "1. First Linear Regression Model:\n",
    "  - Attendance (%)\n",
    "  - Midterm Score\n",
    "  - Assignments Average\n",
    "  - Study Hours per Week\n",
    "  - Stress Level (1-10)\n",
    "2. Second Linear Regression Model:\n",
    " - Attendance (%)\n",
    " - Midterm Score\n",
    " - Assignments Average\n",
    " - Study Hours per Week\n",
    " - Stress Level (1-10)\n",
    " - Family Income Level\n",
    " - Parent Education Level\n",
    " - Sleep Hours per Night\n",
    "\n",
    "## Conclusion \n",
    "In both models, Attendance, Midterm Scores, Assignments, Study Hours, and Stress Levels were important in predicting how well students did. However, adding extra factors like Family Income, Parent Education, and Sleep Hours in the second model didn’t really improve the predictions much.\n"
   ]
  },
  {
   "cell_type": "code",
   "execution_count": 1,
   "id": "001e5ab2-b5f6-4726-93c7-6b00048107a3",
   "metadata": {},
   "outputs": [
    {
     "data": {
      "image/png": "[encoded data removed]",
      "text/plain": [
       "<Figure size 800x500 with 1 Axes>"
      ]
     },
     "metadata": {},
     "output_type": "display_data"
    }
   ],
   "source": [
    "import pandas as pd\n",
    "import matplotlib.pyplot as plt\n",
    "\n",
    "# Define evaluation metrics for both models\n",
    "model_1 = {\n",
    "    \"MAE\": 4.29,\n",
    "    \"MSE\": 31.21,\n",
    "    \"RMSE\": 5.58,\n",
    "    \"R2\": 0.86\n",
    "}\n",
    "\n",
    "model_2 = {\n",
    "    \"MAE\": 4.46,\n",
    "    \"MSE\": 33.67,\n",
    "    \"RMSE\": 5.80,\n",
    "    \"R2\": 0.85\n",
    "}\n",
    "\n",
    "# Create a DataFrame\n",
    "results_df = pd.DataFrame([model_1, model_2], index=[\"Model 1\", \"Model 2\"])\n",
    "\n",
    "# Plot the grouped bar chart\n",
    "fig, ax = plt.subplots(figsize=(8, 5))\n",
    "results_df.plot(kind='bar', ax=ax, colormap='viridis', edgecolor='black')\n",
    "\n",
    "# Customize plot\n",
    "plt.title(\"Linear Regression: Evaluation Metrics Across Feature Sets\")\n",
    "plt.ylabel(\"Score\")\n",
    "plt.xticks(rotation=0)\n",
    "plt.grid(axis='y', linestyle='--', alpha=0.7)\n",
    "plt.tight_layout()\n",
    "plt.legend(title=\"Metric\")\n",
    "\n",
    "# Show the plot\n",
    "plt.show()\n"
   ]
  },
  {
   "cell_type": "code",
   "execution_count": null,
   "id": "05d78e25-4f70-44c7-aed3-ef648621601e",
   "metadata": {},
   "outputs": [],
   "source": []
  }
 ],
 "metadata": {
  "kernelspec": {
   "display_name": "Python 3 (ipykernel)",
   "language": "python",
   "name": "python3"
  },
  "language_info": {
   "codemirror_mode": {
    "name": "ipython",
    "version": 3
   },
   "file_extension": ".py",
   "mimetype": "text/x-python",
   "name": "python",
   "nbconvert_exporter": "python",
   "pygments_lexer": "ipython3",
   "version": "3.13.1"
  }
 },
 "nbformat": 4,
 "nbformat_minor": 5
}
